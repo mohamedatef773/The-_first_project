{
  "nbformat": 4,
  "nbformat_minor": 0,
  "metadata": {
    "colab": {
      "private_outputs": true,
      "provenance": [],
      "mount_file_id": "1aOBJjka1c5IpqpOMY-kYGlRV7c_LCp5M",
      "authorship_tag": "ABX9TyOWRIx87HHWvQx8A+W99dSU",
      "include_colab_link": true
    },
    "kernelspec": {
      "name": "python3",
      "display_name": "Python 3"
    },
    "language_info": {
      "name": "python"
    },
    "accelerator": "GPU",
    "gpuClass": "standard"
  },
  "cells": [
    {
      "cell_type": "markdown",
      "metadata": {
        "id": "view-in-github",
        "colab_type": "text"
      },
      "source": [
        "<a href=\"https://colab.research.google.com/github/mohamedatef773/The-_first_project/blob/main/NLP_task.ipynb\" target=\"_parent\"><img src=\"https://colab.research.google.com/assets/colab-badge.svg\" alt=\"Open In Colab\"/></a>"
      ]
    },
    {
      "cell_type": "code",
      "execution_count": null,
      "metadata": {
        "id": "Myx_l_jszzJE"
      },
      "outputs": [],
      "source": [
        "import pandas as pd\n",
        "import numpy as np\n",
        "import seaborn as sns\n",
        "import matplotlib.pylab as plt"
      ]
    },
    {
      "cell_type": "code",
      "source": [
        "data_text=pd.read_csv('/content/drive/MyDrive/fake_job_postings.csv')"
      ],
      "metadata": {
        "id": "S17N_anG0TFd"
      },
      "execution_count": null,
      "outputs": []
    },
    {
      "cell_type": "code",
      "source": [
        "data_text.drop('job_id',inplace=True,axis=1)"
      ],
      "metadata": {
        "id": "WgHgnK02I-qV"
      },
      "execution_count": null,
      "outputs": []
    },
    {
      "cell_type": "code",
      "source": [
        "percent_missing = data_text.isnull().sum() * 100 / len(data_text)\n",
        "missing_value = pd.DataFrame({'column_name': data_text.columns,\n",
        "                                 'percent_missing': percent_missing})"
      ],
      "metadata": {
        "id": "StyHv7YIJOgI"
      },
      "execution_count": null,
      "outputs": []
    },
    {
      "cell_type": "code",
      "source": [
        "missing_value"
      ],
      "metadata": {
        "id": "jzhlp6h9JeJV"
      },
      "execution_count": null,
      "outputs": []
    },
    {
      "cell_type": "code",
      "source": [
        "\n",
        "data_text.drop('salary_range',inplace=True,axis=1)"
      ],
      "metadata": {
        "id": "9WEDpIr2KBkD"
      },
      "execution_count": null,
      "outputs": []
    },
    {
      "cell_type": "code",
      "source": [
        "data_text"
      ],
      "metadata": {
        "id": "DxtoZYPBKWhN"
      },
      "execution_count": null,
      "outputs": []
    },
    {
      "cell_type": "code",
      "source": [
        "\n",
        "data_text.fillna(\" \",inplace = True)"
      ],
      "metadata": {
        "id": "sibkaviZKXf0"
      },
      "execution_count": null,
      "outputs": []
    },
    {
      "cell_type": "code",
      "source": [
        "data_text"
      ],
      "metadata": {
        "id": "akpvOMMwKjOM"
      },
      "execution_count": null,
      "outputs": []
    },
    {
      "cell_type": "code",
      "source": [
        "data_text['fraudulent']"
      ],
      "metadata": {
        "id": "DZJ4WruDLLVl"
      },
      "execution_count": null,
      "outputs": []
    },
    {
      "cell_type": "markdown",
      "source": [
        "# Job Description"
      ],
      "metadata": {
        "id": "QNxWkj-xN4Rq"
      }
    },
    {
      "cell_type": "code",
      "source": [
        "data_text['text'] = data_text['title'] + ' ' + data_text['location'] + ' ' + data_text['department'] + ' ' + data_text['company_profile'] + ' ' + data_text['description'] + ' ' + data_text['requirements'] + ' ' + data_text['benefits'] + ' ' + data_text['employment_type'] + ' ' + data_text['required_education'] + ' ' + data_text['industry'] + ' ' + data_text['function']"
      ],
      "metadata": {
        "id": "dHW8DIxAKksM"
      },
      "execution_count": null,
      "outputs": []
    },
    {
      "cell_type": "code",
      "source": [
        "data_text['text'][0]"
      ],
      "metadata": {
        "id": "U_GSYo6qKzUQ"
      },
      "execution_count": null,
      "outputs": []
    },
    {
      "cell_type": "code",
      "source": [
        "import spacy\n",
        "import re\n"
      ],
      "metadata": {
        "id": "cnXhqlHeK6Ap"
      },
      "execution_count": null,
      "outputs": []
    },
    {
      "cell_type": "code",
      "source": [
        "nlp=spacy.load(\"en_core_web_sm\")"
      ],
      "metadata": {
        "id": "zqxeV8KoM4Wh"
      },
      "execution_count": null,
      "outputs": []
    },
    {
      "cell_type": "markdown",
      "source": [
        "###  medium-sized English model trained on written web text (blogs, news, comments)\n",
        "\n",
        "---\n",
        "\n"
      ],
      "metadata": {
        "id": "B04soLwYQMn3"
      }
    },
    {
      "cell_type": "code",
      "source": [
        "nlp"
      ],
      "metadata": {
        "id": "EP5ctP5eNGFr"
      },
      "execution_count": null,
      "outputs": []
    },
    {
      "cell_type": "markdown",
      "source": [
        "Remove spaces at the beginning and at the end of the string"
      ],
      "metadata": {
        "id": "El5_abcARUxK"
      }
    },
    {
      "cell_type": "code",
      "source": [
        "def preprocess(text):\n",
        "    text=re.sub(r'(#|@)[a-zA-Z0-9|_]+','',text)\n",
        "    text=re.sub(r'RT[\\s]+',' ',text)\n",
        "    text=re.sub(r'https?:\\/\\/\\S+',' ',text)\n",
        "    text=re.sub(r'\\d',' ',text)\n",
        "    text=re.sub(r'(^\\s+)','',text)\n",
        "    text=re.sub(r'(\\s+$)','',text)\n",
        "    return text.strip().lower()"
      ],
      "metadata": {
        "id": "O-LOZ1bbOE5r"
      },
      "execution_count": null,
      "outputs": []
    },
    {
      "cell_type": "code",
      "source": [
        "data_text['text']=data_text['text'].map(preprocess)"
      ],
      "metadata": {
        "id": "QHPkt5D2V6j7"
      },
      "execution_count": null,
      "outputs": []
    },
    {
      "cell_type": "code",
      "source": [
        "data_text['text'][0]"
      ],
      "metadata": {
        "id": "w_CecFYdXJAE"
      },
      "execution_count": null,
      "outputs": []
    },
    {
      "cell_type": "code",
      "source": [
        "import nltk\n",
        "nltk.download('stopwords')"
      ],
      "metadata": {
        "id": "cw43OpH3aBYc"
      },
      "execution_count": null,
      "outputs": []
    },
    {
      "cell_type": "code",
      "source": [
        "from nltk.stem import PorterStemmer"
      ],
      "metadata": {
        "id": "lDV8UmP2aL70"
      },
      "execution_count": null,
      "outputs": []
    },
    {
      "cell_type": "code",
      "source": [
        "from nltk.corpus import stopwords\n",
        "s_words=stopwords.words('english')\n"
      ],
      "metadata": {
        "id": "jsZxyepuah06"
      },
      "execution_count": null,
      "outputs": []
    },
    {
      "cell_type": "code",
      "source": [
        "import nltk\n",
        "from nltk.corpus import stopwords\n",
        "from nltk.tokenize import TweetTokenizer\n",
        "set(stopwords.words('english'))\n"
      ],
      "metadata": {
        "id": "5MpjiCQmenMU"
      },
      "execution_count": null,
      "outputs": []
    },
    {
      "cell_type": "code",
      "source": [
        "stop_words=stopwords.words('english')"
      ],
      "metadata": {
        "id": "P-Pzi9FY-quo"
      },
      "execution_count": null,
      "outputs": []
    },
    {
      "cell_type": "code",
      "source": [
        "def stop_word(text):\n",
        "  tokenizer=TweetTokenizer()\n",
        "  word_tokens=tokenizer.tokenize(text)\n",
        "  filtered_sentence = []\n",
        "\n",
        "  for w in word_tokens:\n",
        "     if w not in stop_words:\n",
        "          filtered_sentence.append(w)\n",
        "  return\" \".join(filtered_sentence)\n",
        "\n",
        "\n",
        "\n"
      ],
      "metadata": {
        "id": "a-avratxcH7W"
      },
      "execution_count": null,
      "outputs": []
    },
    {
      "cell_type": "code",
      "source": [
        "data_text['text']=data_text['text'].map(stop_word)"
      ],
      "metadata": {
        "id": "LKfKpqaudywu"
      },
      "execution_count": null,
      "outputs": []
    },
    {
      "cell_type": "code",
      "source": [
        "data_text['text'][0]"
      ],
      "metadata": {
        "id": "8VG40045d4ta"
      },
      "execution_count": null,
      "outputs": []
    },
    {
      "cell_type": "code",
      "source": [
        "nlp=spacy.load(\"en_core_web_sm\")"
      ],
      "metadata": {
        "id": "-2KrC2MjgDry"
      },
      "execution_count": null,
      "outputs": []
    },
    {
      "cell_type": "code",
      "source": [
        "def preprocess_1(text):\n",
        "  doc=nlp(text)\n",
        "  np_stop_words=[token.text for token in doc if not token.is_stop and not token.is_punct]\n",
        "  return \" \".join(np_stop_words)\n",
        ""
      ],
      "metadata": {
        "id": "2EV_oTADebiH"
      },
      "execution_count": null,
      "outputs": []
    },
    {
      "cell_type": "code",
      "source": [
        "data_text['text']=data_text['text'].map(preprocess_1)"
      ],
      "metadata": {
        "id": "0fWXsvrMgzjT"
      },
      "execution_count": null,
      "outputs": []
    },
    {
      "cell_type": "code",
      "source": [
        "data_text['text'][0]"
      ],
      "metadata": {
        "id": "uxZSWWaLh03h"
      },
      "execution_count": null,
      "outputs": []
    },
    {
      "cell_type": "code",
      "source": [
        "nlp=spacy.load(\"en_core_web_sm\")"
      ],
      "metadata": {
        "id": "beMD5JejlgKS"
      },
      "execution_count": null,
      "outputs": []
    },
    {
      "cell_type": "code",
      "source": [
        "def Lemmatization (text):\n",
        "  doc=nlp(text)\n",
        "  Lemmatization=[token.lemma_ for token in doc ]\n",
        "  return \" \".join(Lemmatization)\n"
      ],
      "metadata": {
        "id": "kfL2VFTxmpiL"
      },
      "execution_count": null,
      "outputs": []
    },
    {
      "cell_type": "code",
      "source": [
        "data_text['text']=data_text['text'].map(Lemmatization)"
      ],
      "metadata": {
        "id": "9R_eoB8rnP9G"
      },
      "execution_count": null,
      "outputs": []
    },
    {
      "cell_type": "code",
      "source": [
        "data_final_text=pd.DataFrame(data_text['text'])"
      ],
      "metadata": {
        "id": "PJdop790r6UQ"
      },
      "execution_count": null,
      "outputs": []
    },
    {
      "cell_type": "code",
      "source": [
        "fraudulent=data_text['fraudulent']"
      ],
      "metadata": {
        "id": "nMbFD54RVeAE"
      },
      "execution_count": null,
      "outputs": []
    },
    {
      "cell_type": "code",
      "source": [
        "data_final_text.insert(1,'fraudulent',fraudulent)"
      ],
      "metadata": {
        "id": "4qlVcsy6VNoY"
      },
      "execution_count": null,
      "outputs": []
    },
    {
      "cell_type": "code",
      "source": [
        "data_final_text"
      ],
      "metadata": {
        "id": "yUpqaxipWF4Q"
      },
      "execution_count": null,
      "outputs": []
    },
    {
      "cell_type": "code",
      "source": [
        "from sklearn.feature_extraction.text import CountVectorizer\n",
        "from sklearn.metrics import classification_report,accuracy_score"
      ],
      "metadata": {
        "id": "CSuk_mgnzJAQ"
      },
      "execution_count": null,
      "outputs": []
    },
    {
      "cell_type": "code",
      "source": [
        "from sklearn.model_selection import train_test_split"
      ],
      "metadata": {
        "id": "Y0P1Ypzf0_v8"
      },
      "execution_count": null,
      "outputs": []
    },
    {
      "cell_type": "code",
      "source": [
        "train_text , test_text ,train_category , test_category = train_test_split(data_final_text['text'],data_final_text['fraudulent'] , test_size = 0.2 , random_state = 0)"
      ],
      "metadata": {
        "id": "3_aCAVo3z5Vp"
      },
      "execution_count": null,
      "outputs": []
    },
    {
      "cell_type": "code",
      "source": [
        "test_text\n"
      ],
      "metadata": {
        "id": "k-1M2cqZ0PmK"
      },
      "execution_count": null,
      "outputs": []
    },
    {
      "cell_type": "code",
      "source": [
        "from sklearn.linear_model import LogisticRegression"
      ],
      "metadata": {
        "id": "gb8PpaSsRcVz"
      },
      "execution_count": null,
      "outputs": []
    },
    {
      "cell_type": "code",
      "source": [
        "cv=CountVectorizer()\n",
        "cv_train_reviews=cv.fit_transform(train_text)\n",
        "cv_test_reviews=cv.transform(test_text)\n",
        "\n",
        "print('cv_train:',cv_train_reviews.shape)\n",
        "print('cv_test:',cv_test_reviews.shape)"
      ],
      "metadata": {
        "id": "2P1cU8pkW4gG"
      },
      "execution_count": null,
      "outputs": []
    },
    {
      "cell_type": "code",
      "source": [
        "model=LogisticRegression()\n",
        "mnb_bow=model.fit(cv_train_reviews,train_category)\n"
      ],
      "metadata": {
        "id": "0ej5-oTtW-MO"
      },
      "execution_count": null,
      "outputs": []
    },
    {
      "cell_type": "code",
      "source": [
        "y_pred=model.predict(cv_test_reviews)"
      ],
      "metadata": {
        "id": "AVryWPXXXtVG"
      },
      "execution_count": null,
      "outputs": []
    },
    {
      "cell_type": "code",
      "source": [
        "y_pred_1=model.predict(cv_train_reviews)"
      ],
      "metadata": {
        "id": "_ezSi4idZxlF"
      },
      "execution_count": null,
      "outputs": []
    },
    {
      "cell_type": "code",
      "source": [
        "score=accuracy_score(test_category,y_pred)\n",
        "print(\"test_score :\",score)"
      ],
      "metadata": {
        "id": "lGUge0LTX5o0"
      },
      "execution_count": null,
      "outputs": []
    },
    {
      "cell_type": "code",
      "source": [
        "score=accuracy_score(train_category,y_pred_1)\n",
        "print(\"train_score :\",score)\n"
      ],
      "metadata": {
        "id": "8b_ve1MhZwg1"
      },
      "execution_count": null,
      "outputs": []
    },
    {
      "cell_type": "code",
      "source": [
        "report = classification_report(test_category,y_pred,target_names = ['0','1'])\n",
        "print(report)"
      ],
      "metadata": {
        "id": "qxNNy7nnYNkn"
      },
      "execution_count": null,
      "outputs": []
    }
  ]
}